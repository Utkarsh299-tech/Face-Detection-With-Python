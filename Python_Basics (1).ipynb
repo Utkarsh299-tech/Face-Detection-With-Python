{
  "nbformat": 4,
  "nbformat_minor": 0,
  "metadata": {
    "colab": {
      "name": "Python Basics",
      "provenance": []
    },
    "kernelspec": {
      "name": "python3",
      "display_name": "Python 3"
    }
  },
  "cells": [
    {
      "cell_type": "code",
      "metadata": {
        "id": "33Ss0GGLlvxE",
        "colab_type": "code",
        "colab": {
          "base_uri": "https://localhost:8080/",
          "height": 35
        },
        "outputId": "23260a70-8eb1-4682-e77d-d3cbf158ff0f"
      },
      "source": [
        "print(\"Hello World!\")\n"
      ],
      "execution_count": 1,
      "outputs": [
        {
          "output_type": "stream",
          "text": [
            "Hello World!\n"
          ],
          "name": "stdout"
        }
      ]
    },
    {
      "cell_type": "code",
      "metadata": {
        "id": "l3QMPq-Ml3On",
        "colab_type": "code",
        "colab": {}
      },
      "source": [
        "n = 5"
      ],
      "execution_count": 2,
      "outputs": []
    },
    {
      "cell_type": "code",
      "metadata": {
        "id": "kv-QSTRFl6mL",
        "colab_type": "code",
        "colab": {
          "base_uri": "https://localhost:8080/",
          "height": 35
        },
        "outputId": "2422e74d-66c8-4bad-bb91-02c8d06bba75"
      },
      "source": [
        "print(n)"
      ],
      "execution_count": 3,
      "outputs": [
        {
          "output_type": "stream",
          "text": [
            "5\n"
          ],
          "name": "stdout"
        }
      ]
    },
    {
      "cell_type": "code",
      "metadata": {
        "id": "apnDrM7ol9L5",
        "colab_type": "code",
        "colab": {
          "base_uri": "https://localhost:8080/",
          "height": 35
        },
        "outputId": "554b193a-8e18-441c-d639-661bd7d85de9"
      },
      "source": [
        "type(n)"
      ],
      "execution_count": 4,
      "outputs": [
        {
          "output_type": "execute_result",
          "data": {
            "text/plain": [
              "int"
            ]
          },
          "metadata": {
            "tags": []
          },
          "execution_count": 4
        }
      ]
    },
    {
      "cell_type": "code",
      "metadata": {
        "id": "9QD2pZmTmBFY",
        "colab_type": "code",
        "colab": {}
      },
      "source": [
        "n = \"Hello all\""
      ],
      "execution_count": 5,
      "outputs": []
    },
    {
      "cell_type": "code",
      "metadata": {
        "id": "rDYVx2G8mD88",
        "colab_type": "code",
        "colab": {
          "base_uri": "https://localhost:8080/",
          "height": 35
        },
        "outputId": "2105e1e4-27ff-4e8c-b336-76c05c2a5c2d"
      },
      "source": [
        "print(n)"
      ],
      "execution_count": 6,
      "outputs": [
        {
          "output_type": "stream",
          "text": [
            "Hello all\n"
          ],
          "name": "stdout"
        }
      ]
    },
    {
      "cell_type": "code",
      "metadata": {
        "id": "Qp4T4YmjmGr3",
        "colab_type": "code",
        "colab": {
          "base_uri": "https://localhost:8080/",
          "height": 35
        },
        "outputId": "92f8381c-33ef-4375-a3bf-28cb1b51b8f0"
      },
      "source": [
        "type(n)"
      ],
      "execution_count": 7,
      "outputs": [
        {
          "output_type": "execute_result",
          "data": {
            "text/plain": [
              "str"
            ]
          },
          "metadata": {
            "tags": []
          },
          "execution_count": 7
        }
      ]
    },
    {
      "cell_type": "markdown",
      "metadata": {
        "id": "l9qHjL7qmMaV",
        "colab_type": "text"
      },
      "source": [
        "**Conditional Statements in Python**\n",
        "\n"
      ]
    },
    {
      "cell_type": "code",
      "metadata": {
        "id": "luwsZhefmJIW",
        "colab_type": "code",
        "colab": {
          "base_uri": "https://localhost:8080/",
          "height": 52
        },
        "outputId": "6a928c0b-b960-495a-ff70-6b0c56bb4af1"
      },
      "source": [
        "#Conditional Statements\n",
        "n = 2\n",
        "if n>10:\n",
        "    print(\"n is greater than 10\")\n",
        "    \n",
        "elif n<5:\n",
        "    print(\"n is smaller than 5\")\n",
        "    print(\"I'm inside second block\")\n",
        "    \n",
        "else:\n",
        "    print(\"n is between 5 and 10\")"
      ],
      "execution_count": 8,
      "outputs": [
        {
          "output_type": "stream",
          "text": [
            "n is smaller than 5\n",
            "I'm inside second block\n"
          ],
          "name": "stdout"
        }
      ]
    },
    {
      "cell_type": "markdown",
      "metadata": {
        "id": "TnkTzk2ImqFB",
        "colab_type": "text"
      },
      "source": [
        "**Loops**\n"
      ]
    },
    {
      "cell_type": "code",
      "metadata": {
        "id": "X_Hpvrw6mXnb",
        "colab_type": "code",
        "colab": {
          "base_uri": "https://localhost:8080/",
          "height": 35
        },
        "outputId": "5fd54b77-2a98-405f-c8dd-bbbd5222c155"
      },
      "source": [
        "i = 0\n",
        "\n",
        "while i<=10:\n",
        "  print(i, end=\", \" )\n",
        "  i+=1"
      ],
      "execution_count": 9,
      "outputs": [
        {
          "output_type": "stream",
          "text": [
            "0, 1, 2, 3, 4, 5, 6, 7, 8, 9, 10, "
          ],
          "name": "stdout"
        }
      ]
    },
    {
      "cell_type": "code",
      "metadata": {
        "id": "BDif9bRnmduh",
        "colab_type": "code",
        "colab": {
          "base_uri": "https://localhost:8080/",
          "height": 35
        },
        "outputId": "ee17b009-1f62-4b46-b2a4-ecf0184a92d3"
      },
      "source": [
        "\n",
        "for element in range(10, 20, 2):\n",
        "  print(element, end= \", \")"
      ],
      "execution_count": 12,
      "outputs": [
        {
          "output_type": "stream",
          "text": [
            "10, 12, 14, 16, 18, "
          ],
          "name": "stdout"
        }
      ]
    },
    {
      "cell_type": "markdown",
      "metadata": {
        "id": "NBg79RFlm4Vp",
        "colab_type": "text"
      },
      "source": [
        "**Functions**\n"
      ]
    },
    {
      "cell_type": "code",
      "metadata": {
        "id": "WotZYbZZmhbL",
        "colab_type": "code",
        "colab": {}
      },
      "source": [
        "def say_hello(name):\n",
        "    print(\"Hello \" + name)"
      ],
      "execution_count": 13,
      "outputs": []
    },
    {
      "cell_type": "code",
      "metadata": {
        "id": "-tMpuol1m-iG",
        "colab_type": "code",
        "colab": {
          "base_uri": "https://localhost:8080/",
          "height": 35
        },
        "outputId": "630f4dfe-4377-4560-e8f7-0b75b62d2717"
      },
      "source": [
        "say_hello(\"Utkarsh Singh\")"
      ],
      "execution_count": 14,
      "outputs": [
        {
          "output_type": "stream",
          "text": [
            "Hello Utkarsh Singh\n"
          ],
          "name": "stdout"
        }
      ]
    },
    {
      "cell_type": "code",
      "metadata": {
        "id": "fsZKbkvSnAZh",
        "colab_type": "code",
        "colab": {}
      },
      "source": [
        "def calculator(a, b):\n",
        "    sum = a+b\n",
        "    diff = a-b\n",
        "    prod = a*b\n",
        "    div = a/b\n",
        "    \n",
        "    return sum, diff, prod, div"
      ],
      "execution_count": 15,
      "outputs": []
    },
    {
      "cell_type": "code",
      "metadata": {
        "id": "_crDvr7jnDAN",
        "colab_type": "code",
        "colab": {
          "base_uri": "https://localhost:8080/",
          "height": 35
        },
        "outputId": "1f63756f-90bf-4644-9909-734bfacead6f"
      },
      "source": [
        "calculator(8, 3)"
      ],
      "execution_count": 16,
      "outputs": [
        {
          "output_type": "execute_result",
          "data": {
            "text/plain": [
              "(11, 5, 24, 2.6666666666666665)"
            ]
          },
          "metadata": {
            "tags": []
          },
          "execution_count": 16
        }
      ]
    },
    {
      "cell_type": "markdown",
      "metadata": {
        "id": "o-79Ne_qnGIa",
        "colab_type": "text"
      },
      "source": [
        "**Data Structures**\n"
      ]
    },
    {
      "cell_type": "code",
      "metadata": {
        "id": "28qfiNjpnEx6",
        "colab_type": "code",
        "colab": {}
      },
      "source": [
        "# Data Structures\n",
        "#List\n",
        "#Tuples\n",
        "#Dictionary\n",
        "#Sets"
      ],
      "execution_count": 17,
      "outputs": []
    },
    {
      "cell_type": "markdown",
      "metadata": {
        "id": "-_6a37bInYGS",
        "colab_type": "text"
      },
      "source": [
        "**List**\n"
      ]
    },
    {
      "cell_type": "code",
      "metadata": {
        "id": "vQwXRy5AnPFN",
        "colab_type": "code",
        "colab": {}
      },
      "source": [
        "li = [4,6,2,9,8,7]"
      ],
      "execution_count": 18,
      "outputs": []
    },
    {
      "cell_type": "code",
      "metadata": {
        "id": "to9uNQL1nRa8",
        "colab_type": "code",
        "colab": {
          "base_uri": "https://localhost:8080/",
          "height": 35
        },
        "outputId": "c1280130-9da8-4e44-8d3b-e13e54121e8e"
      },
      "source": [
        "type(li)"
      ],
      "execution_count": 19,
      "outputs": [
        {
          "output_type": "execute_result",
          "data": {
            "text/plain": [
              "list"
            ]
          },
          "metadata": {
            "tags": []
          },
          "execution_count": 19
        }
      ]
    },
    {
      "cell_type": "code",
      "metadata": {
        "id": "SkjG0yvYnStm",
        "colab_type": "code",
        "colab": {
          "base_uri": "https://localhost:8080/",
          "height": 87
        },
        "outputId": "f6829dee-8393-45c7-b963-5f4bdcc7c9d9"
      },
      "source": [
        "print(li[0])\n",
        "print(li[1])\n",
        "print(li[-1])\n",
        "print(li[-3])"
      ],
      "execution_count": 20,
      "outputs": [
        {
          "output_type": "stream",
          "text": [
            "4\n",
            "6\n",
            "7\n",
            "9\n"
          ],
          "name": "stdout"
        }
      ]
    },
    {
      "cell_type": "code",
      "metadata": {
        "id": "BtOUx3YhnUqr",
        "colab_type": "code",
        "colab": {
          "base_uri": "https://localhost:8080/",
          "height": 35
        },
        "outputId": "81b05fda-89a4-4580-9855-1560954b9ccc"
      },
      "source": [
        "# List Slicing\n",
        "#li[start_index : end_index + 1]\n",
        "li[1:4]"
      ],
      "execution_count": 21,
      "outputs": [
        {
          "output_type": "execute_result",
          "data": {
            "text/plain": [
              "[6, 2, 9]"
            ]
          },
          "metadata": {
            "tags": []
          },
          "execution_count": 21
        }
      ]
    },
    {
      "cell_type": "code",
      "metadata": {
        "id": "RAoHDEUunXMu",
        "colab_type": "code",
        "colab": {
          "base_uri": "https://localhost:8080/",
          "height": 35
        },
        "outputId": "3dd13a4d-9058-45ef-988e-b4586f7b86cc"
      },
      "source": [
        "li[:]"
      ],
      "execution_count": 22,
      "outputs": [
        {
          "output_type": "execute_result",
          "data": {
            "text/plain": [
              "[4, 6, 2, 9, 8, 7]"
            ]
          },
          "metadata": {
            "tags": []
          },
          "execution_count": 22
        }
      ]
    },
    {
      "cell_type": "code",
      "metadata": {
        "id": "FJm9kQ37neT5",
        "colab_type": "code",
        "colab": {}
      },
      "source": [
        "li[0] = 99"
      ],
      "execution_count": 24,
      "outputs": []
    },
    {
      "cell_type": "code",
      "metadata": {
        "id": "y8QymRNGngb1",
        "colab_type": "code",
        "colab": {
          "base_uri": "https://localhost:8080/",
          "height": 35
        },
        "outputId": "833daed7-99d7-4bd4-c92c-16dee4a104de"
      },
      "source": [
        "li"
      ],
      "execution_count": 25,
      "outputs": [
        {
          "output_type": "execute_result",
          "data": {
            "text/plain": [
              "[99, 6, 2, 9, 8, 7]"
            ]
          },
          "metadata": {
            "tags": []
          },
          "execution_count": 25
        }
      ]
    },
    {
      "cell_type": "code",
      "metadata": {
        "id": "Aqk1LvmMnlz5",
        "colab_type": "code",
        "colab": {}
      },
      "source": [
        "li.append(65)"
      ],
      "execution_count": 26,
      "outputs": []
    },
    {
      "cell_type": "code",
      "metadata": {
        "id": "YxBQd0XVnoV4",
        "colab_type": "code",
        "colab": {
          "base_uri": "https://localhost:8080/",
          "height": 35
        },
        "outputId": "a069342d-1ef2-4580-f35c-870c8f1867b5"
      },
      "source": [
        "li"
      ],
      "execution_count": 27,
      "outputs": [
        {
          "output_type": "execute_result",
          "data": {
            "text/plain": [
              "[99, 6, 2, 9, 8, 7, 65]"
            ]
          },
          "metadata": {
            "tags": []
          },
          "execution_count": 27
        }
      ]
    },
    {
      "cell_type": "code",
      "metadata": {
        "id": "ShJ1RWbhnplh",
        "colab_type": "code",
        "colab": {}
      },
      "source": [
        "#list containing heterogeneous elements\n",
        "li2 = [4, 6, \"Hello\", False, [6,5,3], 4.5, 2.3]"
      ],
      "execution_count": 28,
      "outputs": []
    },
    {
      "cell_type": "code",
      "metadata": {
        "id": "eNX8FEq3nr42",
        "colab_type": "code",
        "colab": {
          "base_uri": "https://localhost:8080/",
          "height": 35
        },
        "outputId": "23d78c19-be32-4d47-f5a0-cb8df2c732b8"
      },
      "source": [
        "li2"
      ],
      "execution_count": 29,
      "outputs": [
        {
          "output_type": "execute_result",
          "data": {
            "text/plain": [
              "[4, 6, 'Hello', False, [6, 5, 3], 4.5, 2.3]"
            ]
          },
          "metadata": {
            "tags": []
          },
          "execution_count": 29
        }
      ]
    },
    {
      "cell_type": "markdown",
      "metadata": {
        "id": "pYk10TI-nura",
        "colab_type": "text"
      },
      "source": [
        "**Tuple**\n"
      ]
    },
    {
      "cell_type": "code",
      "metadata": {
        "id": "Uc87OfRunthD",
        "colab_type": "code",
        "colab": {}
      },
      "source": [
        "#Tuple\n",
        "tup = (5,6,3,1)"
      ],
      "execution_count": 30,
      "outputs": []
    },
    {
      "cell_type": "code",
      "metadata": {
        "id": "ATqvjB7InyPG",
        "colab_type": "code",
        "colab": {
          "base_uri": "https://localhost:8080/",
          "height": 35
        },
        "outputId": "0d2444f1-2153-4345-f831-bab56a8066cf"
      },
      "source": [
        "type(tup)"
      ],
      "execution_count": 31,
      "outputs": [
        {
          "output_type": "execute_result",
          "data": {
            "text/plain": [
              "tuple"
            ]
          },
          "metadata": {
            "tags": []
          },
          "execution_count": 31
        }
      ]
    },
    {
      "cell_type": "code",
      "metadata": {
        "id": "c9Ue0UWxn0pT",
        "colab_type": "code",
        "colab": {
          "base_uri": "https://localhost:8080/",
          "height": 35
        },
        "outputId": "14f027a4-ff0e-4b6b-fe7b-bd2355499023"
      },
      "source": [
        "tup[0]"
      ],
      "execution_count": 32,
      "outputs": [
        {
          "output_type": "execute_result",
          "data": {
            "text/plain": [
              "5"
            ]
          },
          "metadata": {
            "tags": []
          },
          "execution_count": 32
        }
      ]
    },
    {
      "cell_type": "code",
      "metadata": {
        "id": "vxhdEGvHn2NL",
        "colab_type": "code",
        "colab": {
          "base_uri": "https://localhost:8080/",
          "height": 166
        },
        "outputId": "0d3fbe7c-487a-4054-f02f-c7c769b6a729"
      },
      "source": [
        "tup[0] = 99 #tuples are immutable"
      ],
      "execution_count": 33,
      "outputs": [
        {
          "output_type": "error",
          "ename": "TypeError",
          "evalue": "ignored",
          "traceback": [
            "\u001b[0;31m---------------------------------------------------------------------------\u001b[0m",
            "\u001b[0;31mTypeError\u001b[0m                                 Traceback (most recent call last)",
            "\u001b[0;32m<ipython-input-33-38a68e120b41>\u001b[0m in \u001b[0;36m<module>\u001b[0;34m()\u001b[0m\n\u001b[0;32m----> 1\u001b[0;31m \u001b[0mtup\u001b[0m\u001b[0;34m[\u001b[0m\u001b[0;36m0\u001b[0m\u001b[0;34m]\u001b[0m \u001b[0;34m=\u001b[0m \u001b[0;36m99\u001b[0m \u001b[0;31m#tuples are immutable\u001b[0m\u001b[0;34m\u001b[0m\u001b[0;34m\u001b[0m\u001b[0m\n\u001b[0m",
            "\u001b[0;31mTypeError\u001b[0m: 'tuple' object does not support item assignment"
          ]
        }
      ]
    },
    {
      "cell_type": "markdown",
      "metadata": {
        "id": "XLranzySn8T9",
        "colab_type": "text"
      },
      "source": [
        "**Dictionary**\n"
      ]
    },
    {
      "cell_type": "code",
      "metadata": {
        "id": "nVmewOzDn5Mi",
        "colab_type": "code",
        "colab": {
          "base_uri": "https://localhost:8080/",
          "height": 35
        },
        "outputId": "c8eb5f31-7c50-46eb-ae44-5fd2bb412c91"
      },
      "source": [
        "#Dictionary\n",
        "#key-value pair\n",
        "canteen_menu = {\n",
        "    \"samosa\" : 10,\n",
        "    \"juice\" : 20,\n",
        "    \"pizza\" : 50\n",
        "}\n",
        "type(canteen_menu)"
      ],
      "execution_count": 34,
      "outputs": [
        {
          "output_type": "execute_result",
          "data": {
            "text/plain": [
              "dict"
            ]
          },
          "metadata": {
            "tags": []
          },
          "execution_count": 34
        }
      ]
    },
    {
      "cell_type": "code",
      "metadata": {
        "id": "gaIgrGoWn--q",
        "colab_type": "code",
        "colab": {
          "base_uri": "https://localhost:8080/",
          "height": 35
        },
        "outputId": "e9c376d8-b00d-42f3-f03e-729ef94364b3"
      },
      "source": [
        "print(canteen_menu)"
      ],
      "execution_count": 35,
      "outputs": [
        {
          "output_type": "stream",
          "text": [
            "{'samosa': 10, 'juice': 20, 'pizza': 50}\n"
          ],
          "name": "stdout"
        }
      ]
    },
    {
      "cell_type": "code",
      "metadata": {
        "id": "PFEm0hPpoBMN",
        "colab_type": "code",
        "colab": {
          "base_uri": "https://localhost:8080/",
          "height": 35
        },
        "outputId": "3c235463-ba5d-4aed-c4c2-9a4c24c8f03d"
      },
      "source": [
        "canteen_menu['pizza']"
      ],
      "execution_count": 36,
      "outputs": [
        {
          "output_type": "execute_result",
          "data": {
            "text/plain": [
              "50"
            ]
          },
          "metadata": {
            "tags": []
          },
          "execution_count": 36
        }
      ]
    },
    {
      "cell_type": "code",
      "metadata": {
        "id": "eY7Rq4JAoDK7",
        "colab_type": "code",
        "colab": {}
      },
      "source": [
        "#adding new elements \n",
        "canteen_menu['fruits'] = 25"
      ],
      "execution_count": 37,
      "outputs": []
    },
    {
      "cell_type": "code",
      "metadata": {
        "id": "3qzVzEDcoFvD",
        "colab_type": "code",
        "colab": {
          "base_uri": "https://localhost:8080/",
          "height": 35
        },
        "outputId": "778f48dc-b713-40b6-f887-c1f2ce54e9d7"
      },
      "source": [
        "print(canteen_menu)"
      ],
      "execution_count": 38,
      "outputs": [
        {
          "output_type": "stream",
          "text": [
            "{'samosa': 10, 'juice': 20, 'pizza': 50, 'fruits': 25}\n"
          ],
          "name": "stdout"
        }
      ]
    },
    {
      "cell_type": "code",
      "metadata": {
        "id": "-Ma5F6RRoHqN",
        "colab_type": "code",
        "colab": {}
      },
      "source": [
        ""
      ],
      "execution_count": null,
      "outputs": []
    }
  ]
}